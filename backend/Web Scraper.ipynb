{
 "cells": [
  {
   "cell_type": "code",
   "execution_count": 2,
   "metadata": {},
   "outputs": [],
   "source": [
    "import requests\n",
    "from bs4 import BeautifulSoup, NavigableString, Tag"
   ]
  },
  {
   "cell_type": "code",
   "execution_count": 1,
   "metadata": {},
   "outputs": [],
   "source": [
    "import html2text"
   ]
  },
  {
   "cell_type": "code",
   "execution_count": 15,
   "metadata": {},
   "outputs": [],
   "source": [
    "URL = 'https://waf.cs.illinois.edu/'\n",
    "page = requests.get(URL)\n",
    "\n",
    "soup = BeautifulSoup(page.content, 'html.parser')"
   ]
  },
  {
   "cell_type": "code",
   "execution_count": 41,
   "metadata": {},
   "outputs": [],
   "source": [
    "def cleanRawText(text):\n",
    "    text = text.replace('\\n','')\n",
    "    text = text.replace('\\n', '')\n",
    "    return text"
   ]
  },
  {
   "cell_type": "code",
   "execution_count": 58,
   "metadata": {},
   "outputs": [],
   "source": [
    "textElements = []\n",
    "for body_child in soup.body.children:\n",
    "    if isinstance(body_child, NavigableString):\n",
    "        continue\n",
    "    #if isinstance(body_child, Tag):\n",
    "    #    print(body_child.name)\n",
    "    #print(body_child.text)\n",
    "    textElements.append(cleanRawText(body_child.text))"
   ]
  },
  {
   "cell_type": "code",
   "execution_count": 59,
   "metadata": {},
   "outputs": [
    {
     "data": {
      "text/plain": [
       "4"
      ]
     },
     "execution_count": 59,
     "metadata": {},
     "output_type": "execute_result"
    }
   ],
   "source": [
    "len(textElements)"
   ]
  },
  {
   "cell_type": "code",
   "execution_count": 60,
   "metadata": {},
   "outputs": [
    {
     "data": {
      "text/plain": [
       "'OverviewProf. Wade Fagen-Ulmschneider is a Teaching Associate Professor of Computer Science at the University of Illinois at Urbana-Champaign (UIUC). With a passion for data, he often teaches thousands of students each year in his courses on Data Structures, Data Visualization, and Data Science. He was selected as one of the National Academy of Engineering’s Frontiers of Engineering Education scholars, awarded the Collins Award for Innovation Teaching, and has been consistently ranked as an excellent instructor by his students for the past ten years. His work on data visualizations has been used by governors of multiple states, featured by websites including Popular Mechanics and The Verge, and has been viewed by millions of readers. [Full Curriculum Vitae, PDF]Social Media and E-MailI post updates about my work across various social media and you can follow me on any/all of them for updates: profwade_, profwade,profwade, andwadefagen.Additionally, I maintain a monthly e-mail list where I share updates on all of my work (both Illinois and beyond) that you can subscribe to for a once-monthly update.  Finally, you can also reach me at waf@illinois.edu.Teaching        I believe that world-class education is education that is worth creating and worth sharing.  Education should be creative, exploratory, and fun — all of my courses contain projects with significant \"creative components\" where you create something original and unique that you can share with others.              Additionally, I believe in free, open-access to educational materials and you will find a collection of my course notes and        videos of lectures on each course website.      Currently Teaching:CS 423: Operating System DesignCS 240: Intro to Computer SystemsMore on Teaching >ProjectsData Visualization91-DIVOC ProjectUIUC GPA VisualizationsMore Visualizations >Open Source SoftwareIllinois LinkedIn Banner GeneratorIllinois Open Source QueueMore Software >Academic PublicationsImpact of Office Hours on GradesPreference-based Team FormationMore Publications >More on Projects >Impact        I\\'ve been privileged to be able to share computer science, data visualization, and data science with thousands of people live, and        millions of readers through data visualizations.      Recent Talks[YouTube] Champaign-Urbana\\'s Data Science Users Group (DSUG)[YouTube] ExploreCS w/ Women in Computer ScienceMore Talks >News and MediaCollection of News and Media >More on Impact >Newest Visualization: COVID-19 Among Big Ten Conference SchoolsInteractive, data-forward visualization of publicly-reported COVID-19 data from Big Ten schools.  Customizable views of confirmed cases, tests administered,  test positivity, and more.  Updated daily.  View the \"COVID-19 Among Big Ten Conference Schools\" visualization >>  Data-Forward Collegiate COVID-19 Analysis >>Latest Projects            91-DIVOC        By: Wade Fagen-UlmschneiderFirst Published: March 2020Updated daily with the latest COVID-19 data.  Used by multiple governors; featured in Popular Mechanics, The Washington Post, Gizmodo, and others.            Perception of Probability Words        By: Wade Fagen-UlmschneiderFirst Published: July 2019            Pokemon Egg Move Calculator        By: Anna Buyevich, Emily Chen, Aravind Sundararajan, and Wade Fagen-UlmschneiderFirst Published: April 2019            Every Gen Ed at UIUC, by GPA        By: Kexin (Fiona) Fei, Caroline Breckenfelder, and Wade Fagen-UlmschneiderFirst Published: March 2019    Vies All Projects >>d7 - Data Science Research CollaborativeI have started organizing my work with students as part of a Data Science Research Collaborative called d7.  We’re just getting this collaborative started, but already have some fantastic work and so much more in the pipeline!  d7: Data Science Research Collaborative >>Contact Information  The best way to reach me is by e-mail (waf@illinois.edu).  Alternatively:Phone: +1 (217) 300-2812Office: 2215 Siebel CenterPhysical Address:              2215 Siebel Center M/C 258        201 N. Goodwin Ave.        Urbana, IL 61801      '"
      ]
     },
     "execution_count": 60,
     "metadata": {},
     "output_type": "execute_result"
    }
   ],
   "source": [
    "textElements[1]"
   ]
  },
  {
   "cell_type": "code",
   "execution_count": null,
   "metadata": {},
   "outputs": [],
   "source": []
  },
  {
   "cell_type": "code",
   "execution_count": null,
   "metadata": {},
   "outputs": [],
   "source": []
  },
  {
   "cell_type": "code",
   "execution_count": 19,
   "metadata": {},
   "outputs": [
    {
     "name": "stdout",
     "output_type": "stream",
     "text": [
      "Wade Fagen-Ulmschneider Wade Fagen-Ulmschneider Teaching Associate Professor,\n",
      "Computer Science Follow: @profwade_ · profwade · wadefagen Overview Prof. Wade\n",
      "Fagen-Ulmschneider is a Teaching Associate Professor of Computer Science at\n",
      "the University of Illinois at Urbana-Champaign (UIUC). With a passion for\n",
      "data, he often teaches thousands of students each year in his courses on Data\n",
      "Structures, Data Visualization, and Data Science. He was selected as one of\n",
      "the National Academy of Engineering’s Frontiers of Engineering Education\n",
      "scholars, awarded the Collins Award for Innovation Teaching, and has been\n",
      "consistently ranked as an excellent instructor by his students for the past\n",
      "ten years. His work on data visualizations has been used by governors of\n",
      "multiple states, featured by websites including Popular Mechanics and The\n",
      "Verge, and has been viewed by millions of readers. [Full Curriculum Vitae,\n",
      "PDF] Social Media and E-Mail I post updates about my work across various\n",
      "social media and you can follow me on any/all of them for updates: profwade_,\n",
      "profwade, profwade, and wadefagen. Additionally, I maintain a monthly e-mail\n",
      "list where I share updates on all of my work (both Illinois and beyond) that\n",
      "you can subscribe to for a once-monthly update. Finally, you can also reach me\n",
      "at waf@illinois.edu. Teaching I believe that world-class education is\n",
      "education that is worth creating and worth sharing. Education should be\n",
      "creative, exploratory, and fun — all of my courses contain projects with\n",
      "significant \"creative components\" where you create something original and\n",
      "unique that you can share with others. Additionally, I believe in free, open-\n",
      "access to educational materials and you will find a collection of my course\n",
      "notes and videos of lectures on each course website. Currently Teaching: CS\n",
      "423: Operating System Design CS 240: Intro to Computer Systems More on\n",
      "Teaching > Projects Data Visualization 91-DIVOC Project UIUC GPA\n",
      "Visualizations More Visualizations > Open Source Software Illinois LinkedIn\n",
      "Banner Generator Illinois Open Source Queue More Software > Academic\n",
      "Publications Impact of Office Hours on Grades Preference-based Team Formation\n",
      "More Publications > More on Projects > Impact I've been privileged to be able\n",
      "to share computer science, data visualization, and data science with thousands\n",
      "of people live, and millions of readers through data visualizations. Recent\n",
      "Talks [YouTube] Champaign-Urbana's Data Science Users Group (DSUG) [YouTube]\n",
      "ExploreCS w/ Women in Computer Science More Talks > News and Media Collection\n",
      "of News and Media > More on Impact > Newest Visualization: COVID-19 Among Big\n",
      "Ten Conference Schools Interactive, data-forward visualization of publicly-\n",
      "reported COVID-19 data from Big Ten schools. Customizable views of confirmed\n",
      "cases, tests administered, test positivity, and more. Updated daily. View the\n",
      "\"COVID-19 Among Big Ten Conference Schools\" visualization >> Data-Forward\n",
      "Collegiate COVID-19 Analysis >> Latest Projects 91-DIVOC By: Wade Fagen-\n",
      "Ulmschneider First Published: March 2020 Updated daily with the latest\n",
      "COVID-19 data. Used by multiple governors; featured in Popular Mechanics, The\n",
      "Washington Post, Gizmodo, and others. Perception of Probability Words By: Wade\n",
      "Fagen-Ulmschneider First Published: July 2019 Pokemon Egg Move Calculator By:\n",
      "Anna Buyevich, Emily Chen, Aravind Sundararajan, and Wade Fagen-Ulmschneider\n",
      "First Published: April 2019 Every Gen Ed at UIUC, by GPA By: Kexin (Fiona)\n",
      "Fei, Caroline Breckenfelder, and Wade Fagen-Ulmschneider First Published:\n",
      "March 2019 Vies All Projects >> d7 - Data Science Research Collaborative I\n",
      "have started organizing my work with students as part of a Data Science\n",
      "Research Collaborative called d7. We’re just getting this collaborative\n",
      "started, but already have some fantastic work and so much more in the\n",
      "pipeline! d7: Data Science Research Collaborative >> Contact Information The\n",
      "best way to reach me is by e-mail (waf@illinois.edu). Alternatively: Phone: +1\n",
      "(217) 300-2812 Office: 2215 Siebel Center Physical Address: 2215 Siebel Center\n",
      "M/C 258 201 N. Goodwin Ave. Urbana, IL 61801\n",
      "\n",
      "\n"
     ]
    }
   ],
   "source": [
    "print(html2text.html2text(soup.text))"
   ]
  },
  {
   "cell_type": "code",
   "execution_count": null,
   "metadata": {},
   "outputs": [],
   "source": []
  }
 ],
 "metadata": {
  "kernelspec": {
   "display_name": "Python 3",
   "language": "python",
   "name": "python3"
  },
  "language_info": {
   "codemirror_mode": {
    "name": "ipython",
    "version": 3
   },
   "file_extension": ".py",
   "mimetype": "text/x-python",
   "name": "python",
   "nbconvert_exporter": "python",
   "pygments_lexer": "ipython3",
   "version": "3.7.4"
  }
 },
 "nbformat": 4,
 "nbformat_minor": 2
}
